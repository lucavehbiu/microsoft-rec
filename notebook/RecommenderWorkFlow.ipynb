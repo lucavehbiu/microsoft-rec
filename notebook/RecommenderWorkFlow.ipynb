{
 "cells": [
  {
   "cell_type": "code",
   "execution_count": 2,
   "id": "c9004774-f945-4b19-8096-1ca944eba9d2",
   "metadata": {},
   "outputs": [],
   "source": [
    "# system\n",
    "import sys, os\n",
    "import pickle\n",
    "\n",
    "# data wrangling\n",
    "import pandas as pd\n",
    "import numpy as np\n",
    "\n",
    "# model\n",
    "from recommenders.models.tfidf.tfidf_utils import TfidfRecommender"
   ]
  },
  {
   "cell_type": "markdown",
   "id": "f7275a46-6df7-48da-94d8-ed3c0c9ea019",
   "metadata": {},
   "source": [
    "# Load Data"
   ]
  },
  {
   "cell_type": "code",
   "execution_count": 6,
   "id": "9c582ca4-7721-4406-b4fa-5c5ad99b5007",
   "metadata": {},
   "outputs": [],
   "source": [
    "path = os.getcwd()\n",
    "data = pd.read_csv(f'{os.path.abspath(os.path.join(path, os.pardir))}/data/recommender_tags_less_brackets.csv')"
   ]
  },
  {
   "cell_type": "markdown",
   "id": "05355f40-408e-4589-b913-3b807dc23994",
   "metadata": {},
   "source": [
    "## Pre-processing\n"
   ]
  },
  {
   "cell_type": "code",
   "execution_count": 4,
   "id": "66f5e5f3-28df-4b43-ad09-13eed2c14d09",
   "metadata": {},
   "outputs": [],
   "source": [
    "# replace empty tag list with null so we can work with them\n",
    "data.replace('[]', np.NaN, inplace = True)\n",
    "\n",
    "# combine all tag columns into one ~ coalesce function\n",
    "combined_tags = (data.communityTags.combine_first(data.interestTags)\n",
    "                                   .combine_first(data.livingTags)\n",
    "                                   .combine_first(data.needTags)\n",
    "                                   .combine_first(data.offerTags)\n",
    "                                   .combine_first(data.skillTags)\n",
    "                )\n",
    "\n",
    "# create a new df with user id and the combined_tags column\n",
    "combined_tags_df = (pd.concat([data._id, combined_tags], axis = 1)\n",
    "                      .rename({'communityTags' : 'combined_tags'}, axis = 1)\n",
    ")\n",
    "\n",
    "# remove users that no tags at all, they add nothing to the model\n",
    "# no imputation can be done to save them\n",
    "combined_tags_df_na_dropped = combined_tags_df.dropna().reset_index(drop= True)"
   ]
  },
  {
   "cell_type": "markdown",
   "id": "a06ba8fb-6028-414e-8c99-651c7cd488db",
   "metadata": {},
   "source": [
    "## Train Model\n"
   ]
  },
  {
   "cell_type": "code",
   "execution_count": null,
   "id": "14b5277a-ad92-4a68-a404-caa3da2bd7d8",
   "metadata": {},
   "outputs": [],
   "source": [
    "# Create the recommender object\n",
    "recommender = TfidfRecommender(id_col='_id', tokenization_method='scibert')\n",
    "\n",
    "# Clean tokens: out of the box functionality\n",
    "df_input = recommender.clean_dataframe(combined_tags_df_na_dropped, \n",
    "                                       ['combined_tags'], \n",
    "                                       'cleaned_combined_tags'\n",
    "                                      ) # tfidf was taking too long, so i thought running with a sample\n",
    "\n",
    "\n",
    "# Tokenize text with tokenization_method specified in class instantiation\n",
    "tf, vectors_tokenized = recommender.tokenize_text(df_input, text_col='cleaned_combined_tags')\n",
    "\n",
    "# Fit the TF-IDF vectorizer to our vectorized data\n",
    "recommender.fit(tf, vectors_tokenized)"
   ]
  },
  {
   "cell_type": "markdown",
   "id": "aff3edf0-2e02-4a15-a5ad-dc056d044116",
   "metadata": {},
   "source": [
    "## Get Recommendations for Chosen User"
   ]
  },
  {
   "cell_type": "code",
   "execution_count": null,
   "id": "e2fdfd4e-1150-48d4-9745-cbb247a857c3",
   "metadata": {},
   "outputs": [],
   "source": [
    "# get top 10 recommendations for each user\n",
    "top_k_recommendations = recommender.recommend_top_k_items(df_input.iloc[:500], k=10)\n",
    "\n",
    "interested_on_user = '5ef5ee15df376c7656e0c1f0'\n",
    "# get recommendation from a user from the list generated above\n",
    "similar_users = recommender.get_top_k_recommendations(df_input, interested_on_user)['rec__id']\n",
    "\n",
    "# print results for that user\n",
    "{f\"{k} Most similar Users\" : similar_users.to_json(orient = 'records')}"
   ]
  }
 ],
 "metadata": {
  "kernelspec": {
   "display_name": "Python 3",
   "language": "python",
   "name": "python3"
  },
  "language_info": {
   "codemirror_mode": {
    "name": "ipython",
    "version": 3
   },
   "file_extension": ".py",
   "mimetype": "text/x-python",
   "name": "python",
   "nbconvert_exporter": "python",
   "pygments_lexer": "ipython3",
   "version": "3.8.12"
  }
 },
 "nbformat": 4,
 "nbformat_minor": 5
}
